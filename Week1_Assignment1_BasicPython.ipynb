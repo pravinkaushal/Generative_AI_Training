{
 "cells": [
  {
   "cell_type": "markdown",
   "id": "4e8251b2",
   "metadata": {},
   "source": [
    "<span style=\"color: red\">\n",
    "\n",
    "### From: Pravin Kaushal (kpravinx@gmail.com)\n",
    "### Python Kernel: Python 3.12.0\n",
    "### Date: 10Aug2025\n",
    "\n",
    "<span>"
   ]
  },
  {
   "cell_type": "markdown",
   "id": "b3eecb2c",
   "metadata": {},
   "source": [
    "## Que1. Write a Python program to reverse the words of a sentence in the same order."
   ]
  },
  {
   "cell_type": "markdown",
   "id": "96d7af03",
   "metadata": {},
   "source": [
    "<span style=\"color: yellow\">\n",
    "\n",
    "### Method 1: without external methods\n",
    "\n",
    "<span>"
   ]
  },
  {
   "cell_type": "code",
   "execution_count": 1,
   "id": "6168d320",
   "metadata": {},
   "outputs": [
    {
     "data": {
      "text/plain": [
       "'order same the in sentence a of words the reverse to program Python a Write'"
      ]
     },
     "execution_count": 1,
     "metadata": {},
     "output_type": "execute_result"
    }
   ],
   "source": [
    "sentence1 = \"Write a Python program to reverse the words of a sentence in the same order.\"\n",
    "\n",
    "delimiter = [\" \", \".\"]\n",
    "\n",
    "current_alphabet = \"\"\n",
    "reversed_sent = \"\"\n",
    "\n",
    "for i in sentence1:\n",
    "    # if i != \" \":\n",
    "    if i not in delimiter:\n",
    "        current_alphabet += i\n",
    "    else:\n",
    "        reversed_sent = f\"{current_alphabet}{' ' if reversed_sent != '' else ''}{reversed_sent}\"\n",
    "        current_alphabet = \"\"\n",
    "\n",
    "reversed_sent"
   ]
  },
  {
   "cell_type": "markdown",
   "id": "fdd79889",
   "metadata": {},
   "source": [
    "<span style=\"color: yellow\">\n",
    "\n",
    "### Method 2: using .split()\n",
    "\n",
    "<span>"
   ]
  },
  {
   "cell_type": "code",
   "execution_count": 2,
   "id": "2d426dd2",
   "metadata": {},
   "outputs": [
    {
     "data": {
      "text/plain": [
       "'order same the in sentence a of words the reverse to program Python a Write'"
      ]
     },
     "execution_count": 2,
     "metadata": {},
     "output_type": "execute_result"
    }
   ],
   "source": [
    "sentence1_q1 = \"Write a Python program to reverse the words of a sentence in the same order\"\n",
    "\n",
    "reversed_sent_q1 = \"\"\n",
    "word_list_q1 = sentence1_q1.split(\" \")\n",
    "\n",
    "for i in range(len(word_list_q1) -1, -1, -1):\n",
    "    reversed_sent_q1 += (word_list_q1[i] + \" \") if i!=0 else word_list_q1[i]\n",
    "\n",
    "reversed_sent_q1"
   ]
  },
  {
   "cell_type": "markdown",
   "id": "ee60a96d",
   "metadata": {},
   "source": [
    "# Que2. Write a Python code to generate the powerset of a given set."
   ]
  },
  {
   "cell_type": "markdown",
   "id": "5cbb02f1",
   "metadata": {},
   "source": [
    "<span style=\"color: yellow\">\n",
    "\n",
    "### Powerset is ideally a **set** of one or more sets. However, due to hashability issues we can't have set of sets in python (unless we use frozen_set). So, for simplicity, we will have our powerset as a **list** of sets.\n",
    "\n",
    "</span>"
   ]
  },
  {
   "cell_type": "code",
   "execution_count": 3,
   "id": "8f721f68",
   "metadata": {},
   "outputs": [
    {
     "name": "stdout",
     "output_type": "stream",
     "text": [
      "[{1}, {1, 2}, {1, 2, 3}, {1, 2, 3, 4}, {2}, {2, 3}, {2, 3, 4}, {3}, {3, 4}, {4}]\n"
     ]
    }
   ],
   "source": [
    "set1 = set([1, 2, 3, 4, 1, 2])\n",
    "\n",
    "def powerset_generator(input_set):\n",
    "    if input_set != set():              # when input is not an empty set\n",
    "        current_powerset = []\n",
    "        current_set = set()\n",
    "        for i in input_set:\n",
    "            current_set.add(i)\n",
    "            current_powerset.append(current_set.copy())\n",
    "        input_set.pop()\n",
    "        return current_powerset + powerset_generator(input_set)\n",
    "    else:                               # when input is an empty set\n",
    "        return []\n",
    "\n",
    "powerset_output = powerset_generator(set1)\n",
    "print(powerset_output)"
   ]
  },
  {
   "cell_type": "markdown",
   "id": "dbb2aa9b",
   "metadata": {},
   "source": [
    "# Que3. Write a Pyhton code to pickup a list from a string dynamically."
   ]
  },
  {
   "cell_type": "markdown",
   "id": "0aa79d1b",
   "metadata": {},
   "source": [
    "### Below code finds only the 1st list if present."
   ]
  },
  {
   "cell_type": "code",
   "execution_count": 4,
   "id": "1dd65cee",
   "metadata": {},
   "outputs": [
    {
     "name": "stdout",
     "output_type": "stream",
     "text": [
      "Finding list in the string: \"Peter has three friends ['Joe Swanson', 'Cleveland Carter', 'QuagMire'], who all lives in USA.\"\n",
      "List Found-\n",
      "['Joe Swanson', 'Cleveland Carter', 'QuagMire'] \n",
      "\n",
      "Finding list in the string: \"Peter has three friends ['Joe Swanson', 'Cleveland Carter', 'QuagMire', who all lives in USA.\"\n",
      "No List found in the string \n",
      "\n",
      "Finding list in the string: \"Peter has three friends 'Joe Swanson', 'Cleveland Carter', 'QuagMire'], who all lives in USA.\"\n",
      "No List found in the string \n",
      "\n",
      "Finding list in the string: \"Peter has three friends 'Joe Swanson', 'Cleveland Carter', 'QuagMire', who all lives in USA.\"\n",
      "No List found in the string \n",
      "\n"
     ]
    }
   ],
   "source": [
    "import re\n",
    "def first_list_extract(string_input):\n",
    "    print(f'Finding list in the string: \"{string_input}\"')\n",
    "\n",
    "    # Finding the list in the input string\n",
    "    start_index = None\n",
    "    end_index = None\n",
    "    \n",
    "    for i in range(len(string_input)):\n",
    "        if string_input[i] == \"[\":\n",
    "            start_index = i\n",
    "            break\n",
    "    for j in range(i, len(string_input)):\n",
    "        if string_input[j] == \"]\":\n",
    "            end_index = j\n",
    "            break\n",
    "\n",
    "    # Converting the string to the list\n",
    "    if start_index != None and end_index != None and start_index < end_index:\n",
    "        print(\"List Found-\")\n",
    "        output_string = string_input[start_index: end_index+1]\n",
    "        import re\n",
    "        word_list = list(re.split(r\"[;,\\\"'\\[\\]]\\s*\", output_string))\n",
    "        return [i for i in word_list if i != \"\"]\n",
    "    else:\n",
    "        return 'No List found in the string'\n",
    "\n",
    "# Examples\n",
    "string1 = \"Peter has three friends ['Joe Swanson', 'Cleveland Carter', 'QuagMire'], who all lives in USA.\"\n",
    "print(first_list_extract(string1), \"\\n\")\n",
    "\n",
    "string2 = \"Peter has three friends ['Joe Swanson', 'Cleveland Carter', 'QuagMire', who all lives in USA.\"\n",
    "print(first_list_extract(string2), \"\\n\")\n",
    "\n",
    "string3 = \"Peter has three friends 'Joe Swanson', 'Cleveland Carter', 'QuagMire'], who all lives in USA.\"\n",
    "print(first_list_extract(string3), \"\\n\")\n",
    "\n",
    "string4 = \"Peter has three friends 'Joe Swanson', 'Cleveland Carter', 'QuagMire', who all lives in USA.\"\n",
    "print(first_list_extract(string4), \"\\n\")"
   ]
  },
  {
   "cell_type": "markdown",
   "id": "1e207e1d",
   "metadata": {},
   "source": [
    "# Que4. Write a Pyhton function which takes \"Text, chunk size, overlap size\" as argument to devide the given text into chucks of given size with given overlap size."
   ]
  },
  {
   "cell_type": "code",
   "execution_count": 5,
   "id": "fe58e6ba",
   "metadata": {},
   "outputs": [
    {
     "name": "stdout",
     "output_type": "stream",
     "text": [
      "['Tric', 'choS', 'Sant', 'thes', 'sDoy', 'yoic', 'ca']\n"
     ]
    }
   ],
   "source": [
    "# Write a Pyhton function which takes \"Text, chunk size, overlap size\" as argument to devide the given text into chucks of given size with given overlap size.\n",
    "\n",
    "def text_divider(input_text, chunk_size, overlap_size):\n",
    "    if chunk_size > overlap_size:\n",
    "        chunks = []\n",
    "        len_text = len(input_text)\n",
    "        i = 0\n",
    "        while i < len_text:\n",
    "            end_index = i+chunk_size if i+chunk_size < len_text else len_text\n",
    "            chunks.append(input_text[i:end_index])\n",
    "            i += (chunk_size - overlap_size)\n",
    "        return chunks\n",
    "    else:\n",
    "        return \"Error: chunk_size must be greater than overlap_size.\"\n",
    "\n",
    "print(text_divider(\"TrichoSanthesDoyoica\", 4, 1))"
   ]
  },
  {
   "cell_type": "markdown",
   "id": "c65efe11",
   "metadata": {},
   "source": [
    "# Que5. Write a Pyhton function to accept an input string and perform the following operations on it:\n",
    ">## 1. Count the total numbers of words in the sentence.\n",
    ">## 2. Find the longest word in the sentence.\n",
    ">## 3. Return the new sentence in which:\n",
    ">>* a. Each word starts with an Uppercase letter.\n",
    ">>* b. All extra spaces (leading trailing or multiple spaces in between are removed.)\n",
    ">## Final Output should be a tuple with above three elements."
   ]
  },
  {
   "cell_type": "markdown",
   "id": "cfa00bde",
   "metadata": {},
   "source": [
    "<span style=\"color:yellow\">\n",
    "\n",
    "### Method 1 (without any external library)\n",
    "\n",
    "<span>"
   ]
  },
  {
   "cell_type": "code",
   "execution_count": 6,
   "id": "54c73e36",
   "metadata": {},
   "outputs": [
    {
     "data": {
      "text/plain": [
       "('Operations',\n",
       " 14,\n",
       " 'Write A Pyhton Function To Accept An Input String And Perform The Following Operations')"
      ]
     },
     "execution_count": 6,
     "metadata": {},
     "output_type": "execute_result"
    }
   ],
   "source": [
    "stringQ5 = \"    write a Pyhton function to accept  an input string      and perform the following operations    \"\n",
    "\n",
    "def text_modifier(string_input):\n",
    "    len_str = len(string_input)\n",
    "    modified_string = \"\"\n",
    "    prev_longest_word = \"\"\n",
    "    current_word = \"\"\n",
    "    words_count = 0\n",
    "\n",
    "    for i in range(len_str):\n",
    "        next_index = i+1 if i+1 <= len_str-1 else len_str-1\n",
    "\n",
    "        if string_input[i] == \" \" and (string_input[next_index] == \" \" or modified_string == \"\" or i==len_str-1):           # Don't consider multiple, leading, and trailing spaces.\n",
    "            pass\n",
    "        elif modified_string == \"\" or modified_string[-1] == \" \":                   # At the beginning or after a space (i.e. new word), capitalizing the 1st alphabet.\n",
    "            modified_string += string_input[i].upper()\n",
    "\n",
    "            words_count += 1\n",
    "\n",
    "            if current_word != \"\":\n",
    "                prev_longest_word = current_word if len(current_word) > len(prev_longest_word) else prev_longest_word\n",
    "                current_word = string_input[i].upper()\n",
    "        else:\n",
    "            modified_string += string_input[i]\n",
    "            current_word += string_input[i] if string_input[i] != ' ' else ''\n",
    "\n",
    "    longest_word = current_word if len(current_word) > len(prev_longest_word) else prev_longest_word\n",
    "    return (longest_word, words_count, modified_string)\n",
    "\n",
    "text_modifier(stringQ5)"
   ]
  },
  {
   "cell_type": "markdown",
   "id": "e8c32433",
   "metadata": {},
   "source": [
    "<span style=\"color:yellow\">\n",
    "\n",
    "### Method 2 (using external modules)\n",
    "\n",
    "<span>"
   ]
  },
  {
   "cell_type": "code",
   "execution_count": 7,
   "id": "d29b447f",
   "metadata": {},
   "outputs": [
    {
     "data": {
      "text/plain": [
       "('operations',\n",
       " 14,\n",
       " 'Write A Pyhton Function To Accept An Input String And Perform The Following Operations')"
      ]
     },
     "execution_count": 7,
     "metadata": {},
     "output_type": "execute_result"
    }
   ],
   "source": [
    "stringQ5 = \"    write a Pyhton function to accept  an input string     and perform the following operations. \"\n",
    "\n",
    "import re\n",
    "def text_modifierM2(string_input):\n",
    "    modified_string = \"\"\n",
    "    longest_word_length = 0\n",
    "    longest_word = None\n",
    "    words_count = 0\n",
    "\n",
    "    word_list = re.split(r\"[' ',.]\\s*\", stringQ5)\n",
    "\n",
    "    for word in word_list:\n",
    "        if word:                                # when word is not None or empty-string.\n",
    "            words_count += 1\n",
    "            longest_word = word if len(word) > longest_word_length else longest_word\n",
    "            longest_word_length = len(word) if len(word) > longest_word_length else longest_word_length\n",
    "\n",
    "            if modified_string == \"\":\n",
    "                modified_string = word.title()                                      # .title() converts a string to a proper-case (also called Camel-Case) i.e. capitalize the 1st alphabet of every word.\n",
    "            else:\n",
    "                modified_string = f\"{modified_string} {word.title()}\"\n",
    "\n",
    "    return (longest_word , words_count, modified_string)\n",
    "\n",
    "text_modifierM2(stringQ5)"
   ]
  }
 ],
 "metadata": {
  "kernelspec": {
   "display_name": "Python 3",
   "language": "python",
   "name": "python3"
  },
  "language_info": {
   "codemirror_mode": {
    "name": "ipython",
    "version": 3
   },
   "file_extension": ".py",
   "mimetype": "text/x-python",
   "name": "python",
   "nbconvert_exporter": "python",
   "pygments_lexer": "ipython3",
   "version": "3.12.0"
  }
 },
 "nbformat": 4,
 "nbformat_minor": 5
}
